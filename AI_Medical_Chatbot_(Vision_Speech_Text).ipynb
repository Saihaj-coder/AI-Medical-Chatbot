{
  "nbformat": 4,
  "nbformat_minor": 0,
  "metadata": {
    "colab": {
      "provenance": [],
      "mount_file_id": "1PPkfl-LH7_Fe96_CepyHcxLQeFoyaL0c",
      "authorship_tag": "ABX9TyN50KGYK0bA4VXZ+DotxFnu"
    },
    "kernelspec": {
      "name": "python3",
      "display_name": "Python 3"
    },
    "language_info": {
      "name": "python"
    }
  },
  "cells": [
    {
      "cell_type": "code",
      "execution_count": null,
      "metadata": {
        "id": "vy9QBH7bXR8X"
      },
      "outputs": [],
      "source": [
        "!pip install groq"
      ]
    },
    {
      "cell_type": "code",
      "source": [
        "from groq import Groq\n",
        "import base64\n",
        "from IPython.display import Image\n",
        "import os"
      ],
      "metadata": {
        "id": "VesP2Ns8YOpi"
      },
      "execution_count": 1,
      "outputs": []
    },
    {
      "cell_type": "code",
      "source": [
        "from google.colab import userdata\n",
        "os.environ[\"GROQ_API_KEY\"] = userdata.get('groq')"
      ],
      "metadata": {
        "id": "o_n7YJ9HYdEO"
      },
      "execution_count": 2,
      "outputs": []
    },
    {
      "cell_type": "code",
      "source": [
        "def encode_image(image_path):\n",
        "    image_file=open(image_path, \"rb\")\n",
        "    return base64.b64encode(image_file.read()).decode('utf-8')"
      ],
      "metadata": {
        "id": "uS16CBgjYgT4"
      },
      "execution_count": 3,
      "outputs": []
    },
    {
      "cell_type": "code",
      "source": [
        "query=\"What sort of eye disease is this?\""
      ],
      "metadata": {
        "id": "sZD8SSDBYwid"
      },
      "execution_count": 4,
      "outputs": []
    },
    {
      "cell_type": "code",
      "source": [
        "model=\"meta-llama/llama-4-scout-17b-16e-instruct\""
      ],
      "metadata": {
        "id": "GcHPkw66Y2kL"
      },
      "execution_count": 5,
      "outputs": []
    },
    {
      "cell_type": "code",
      "source": [
        "def analyze_image_with_query(query, model, encoded_image):\n",
        "    client = Groq(api_key=os.environ[\"GROQ_API_KEY\"])\n",
        "\n",
        "    messages = [\n",
        "        {\n",
        "            \"role\": \"user\",\n",
        "            \"content\": [\n",
        "                {\n",
        "                    \"type\": \"text\",\n",
        "                    \"text\": query\n",
        "                },\n",
        "                {\n",
        "                    \"type\": \"image_url\",\n",
        "                    \"image_url\": {\n",
        "                        \"url\": f\"data:image/jpeg;base64,{encoded_image}\",\n",
        "                    },\n",
        "                },\n",
        "            ],\n",
        "        }\n",
        "    ]\n",
        "\n",
        "    response = client.chat.completions.create(\n",
        "        messages=messages,\n",
        "        model=model\n",
        "    )\n",
        "    return response.choices[0].message.content"
      ],
      "metadata": {
        "id": "lngd2pzTY7la"
      },
      "execution_count": 6,
      "outputs": []
    },
    {
      "cell_type": "code",
      "source": [
        "encoded_image = encode_image(\"/content/drive/MyDrive/eye_diseases/dataset/cataract/1144_left.jpg\")"
      ],
      "metadata": {
        "id": "fap8S8gFZDvL"
      },
      "execution_count": 7,
      "outputs": []
    },
    {
      "cell_type": "code",
      "source": [
        "result = analyze_image_with_query(query, model, encoded_image)\n",
        "print(result)"
      ],
      "metadata": {
        "colab": {
          "base_uri": "https://localhost:8080/"
        },
        "id": "Oxmu03GBaAWk",
        "outputId": "f114de08-ed19-4d15-84cd-bd0a3df12e13"
      },
      "execution_count": 8,
      "outputs": [
        {
          "output_type": "stream",
          "name": "stdout",
          "text": [
            "The image appears to show a fundus photograph of the retina, which is the inner lining at the back of the eye. There are several abnormalities visible in this image, including:\n",
            "\n",
            "*   **Cotton wool spots:** These are small, white or grayish patches on the retina that are indicative of localized areas of retinal ischemia or nerve fiber layer infarcts. They appear as fluffy white spots.\n",
            "*   **Flame-shaped hemorrhages:** These are small, irregularly shaped areas of bleeding in the retina.\n",
            "\n",
            "Based on these findings, the eye disease depicted in the image could be **retinopathy**, possibly **diabetic retinopathy** or **hypertensive retinopathy**. However, without more information about the patient's medical history and other diagnostic test results, it is difficult to provide a definitive diagnosis.\r\n",
            "\r\n",
            "A definitive diagnosis can only be made by a qualified medical professional, such as an ophthalmologist, after a comprehensive eye examination and review of the patient's medical history.\n"
          ]
        }
      ]
    },
    {
      "cell_type": "code",
      "source": [
        "# Required for audio processing and transcription\n",
        "!pip install -q pydub\n",
        "!pip install -q speechrecognition\n",
        "!pip install -q groq\n",
        "!apt-get install -y ffmpeg  # Enables audio decoding for many formats"
      ],
      "metadata": {
        "colab": {
          "base_uri": "https://localhost:8080/"
        },
        "id": "D4bUJ3dhaGqA",
        "outputId": "6e3d2c2e-1a73-4063-d0c1-cfd3b90e7be4"
      },
      "execution_count": 10,
      "outputs": [
        {
          "output_type": "stream",
          "name": "stdout",
          "text": [
            "\u001b[2K   \u001b[90m━━━━━━━━━━━━━━━━━━━━━━━━━━━━━━━━━━━━━━━━\u001b[0m \u001b[32m32.9/32.9 MB\u001b[0m \u001b[31m55.2 MB/s\u001b[0m eta \u001b[36m0:00:00\u001b[0m\n",
            "Reading package lists... Done\n",
            "Building dependency tree... Done\n",
            "Reading state information... Done\n",
            "ffmpeg is already the newest version (7:4.4.2-0ubuntu0.22.04.1).\n",
            "0 upgraded, 0 newly installed, 0 to remove and 35 not upgraded.\n"
          ]
        }
      ]
    },
    {
      "cell_type": "code",
      "source": [
        "from google.colab import files\n",
        "\n",
        "uploaded = files.upload()\n",
        "audio_filepath = list(uploaded.keys())[0]\n",
        "print(f\"Uploaded audio file: {audio_filepath}\")"
      ],
      "metadata": {
        "colab": {
          "base_uri": "https://localhost:8080/",
          "height": 89
        },
        "id": "qZydOUYYdYWI",
        "outputId": "9d5a27df-c1a3-41fc-a13d-138ff1148de4"
      },
      "execution_count": 9,
      "outputs": [
        {
          "output_type": "display_data",
          "data": {
            "text/plain": [
              "<IPython.core.display.HTML object>"
            ],
            "text/html": [
              "\n",
              "     <input type=\"file\" id=\"files-be8a00ce-8525-4c01-8949-8daf192b62cb\" name=\"files[]\" multiple disabled\n",
              "        style=\"border:none\" />\n",
              "     <output id=\"result-be8a00ce-8525-4c01-8949-8daf192b62cb\">\n",
              "      Upload widget is only available when the cell has been executed in the\n",
              "      current browser session. Please rerun this cell to enable.\n",
              "      </output>\n",
              "      <script>// Copyright 2017 Google LLC\n",
              "//\n",
              "// Licensed under the Apache License, Version 2.0 (the \"License\");\n",
              "// you may not use this file except in compliance with the License.\n",
              "// You may obtain a copy of the License at\n",
              "//\n",
              "//      http://www.apache.org/licenses/LICENSE-2.0\n",
              "//\n",
              "// Unless required by applicable law or agreed to in writing, software\n",
              "// distributed under the License is distributed on an \"AS IS\" BASIS,\n",
              "// WITHOUT WARRANTIES OR CONDITIONS OF ANY KIND, either express or implied.\n",
              "// See the License for the specific language governing permissions and\n",
              "// limitations under the License.\n",
              "\n",
              "/**\n",
              " * @fileoverview Helpers for google.colab Python module.\n",
              " */\n",
              "(function(scope) {\n",
              "function span(text, styleAttributes = {}) {\n",
              "  const element = document.createElement('span');\n",
              "  element.textContent = text;\n",
              "  for (const key of Object.keys(styleAttributes)) {\n",
              "    element.style[key] = styleAttributes[key];\n",
              "  }\n",
              "  return element;\n",
              "}\n",
              "\n",
              "// Max number of bytes which will be uploaded at a time.\n",
              "const MAX_PAYLOAD_SIZE = 100 * 1024;\n",
              "\n",
              "function _uploadFiles(inputId, outputId) {\n",
              "  const steps = uploadFilesStep(inputId, outputId);\n",
              "  const outputElement = document.getElementById(outputId);\n",
              "  // Cache steps on the outputElement to make it available for the next call\n",
              "  // to uploadFilesContinue from Python.\n",
              "  outputElement.steps = steps;\n",
              "\n",
              "  return _uploadFilesContinue(outputId);\n",
              "}\n",
              "\n",
              "// This is roughly an async generator (not supported in the browser yet),\n",
              "// where there are multiple asynchronous steps and the Python side is going\n",
              "// to poll for completion of each step.\n",
              "// This uses a Promise to block the python side on completion of each step,\n",
              "// then passes the result of the previous step as the input to the next step.\n",
              "function _uploadFilesContinue(outputId) {\n",
              "  const outputElement = document.getElementById(outputId);\n",
              "  const steps = outputElement.steps;\n",
              "\n",
              "  const next = steps.next(outputElement.lastPromiseValue);\n",
              "  return Promise.resolve(next.value.promise).then((value) => {\n",
              "    // Cache the last promise value to make it available to the next\n",
              "    // step of the generator.\n",
              "    outputElement.lastPromiseValue = value;\n",
              "    return next.value.response;\n",
              "  });\n",
              "}\n",
              "\n",
              "/**\n",
              " * Generator function which is called between each async step of the upload\n",
              " * process.\n",
              " * @param {string} inputId Element ID of the input file picker element.\n",
              " * @param {string} outputId Element ID of the output display.\n",
              " * @return {!Iterable<!Object>} Iterable of next steps.\n",
              " */\n",
              "function* uploadFilesStep(inputId, outputId) {\n",
              "  const inputElement = document.getElementById(inputId);\n",
              "  inputElement.disabled = false;\n",
              "\n",
              "  const outputElement = document.getElementById(outputId);\n",
              "  outputElement.innerHTML = '';\n",
              "\n",
              "  const pickedPromise = new Promise((resolve) => {\n",
              "    inputElement.addEventListener('change', (e) => {\n",
              "      resolve(e.target.files);\n",
              "    });\n",
              "  });\n",
              "\n",
              "  const cancel = document.createElement('button');\n",
              "  inputElement.parentElement.appendChild(cancel);\n",
              "  cancel.textContent = 'Cancel upload';\n",
              "  const cancelPromise = new Promise((resolve) => {\n",
              "    cancel.onclick = () => {\n",
              "      resolve(null);\n",
              "    };\n",
              "  });\n",
              "\n",
              "  // Wait for the user to pick the files.\n",
              "  const files = yield {\n",
              "    promise: Promise.race([pickedPromise, cancelPromise]),\n",
              "    response: {\n",
              "      action: 'starting',\n",
              "    }\n",
              "  };\n",
              "\n",
              "  cancel.remove();\n",
              "\n",
              "  // Disable the input element since further picks are not allowed.\n",
              "  inputElement.disabled = true;\n",
              "\n",
              "  if (!files) {\n",
              "    return {\n",
              "      response: {\n",
              "        action: 'complete',\n",
              "      }\n",
              "    };\n",
              "  }\n",
              "\n",
              "  for (const file of files) {\n",
              "    const li = document.createElement('li');\n",
              "    li.append(span(file.name, {fontWeight: 'bold'}));\n",
              "    li.append(span(\n",
              "        `(${file.type || 'n/a'}) - ${file.size} bytes, ` +\n",
              "        `last modified: ${\n",
              "            file.lastModifiedDate ? file.lastModifiedDate.toLocaleDateString() :\n",
              "                                    'n/a'} - `));\n",
              "    const percent = span('0% done');\n",
              "    li.appendChild(percent);\n",
              "\n",
              "    outputElement.appendChild(li);\n",
              "\n",
              "    const fileDataPromise = new Promise((resolve) => {\n",
              "      const reader = new FileReader();\n",
              "      reader.onload = (e) => {\n",
              "        resolve(e.target.result);\n",
              "      };\n",
              "      reader.readAsArrayBuffer(file);\n",
              "    });\n",
              "    // Wait for the data to be ready.\n",
              "    let fileData = yield {\n",
              "      promise: fileDataPromise,\n",
              "      response: {\n",
              "        action: 'continue',\n",
              "      }\n",
              "    };\n",
              "\n",
              "    // Use a chunked sending to avoid message size limits. See b/62115660.\n",
              "    let position = 0;\n",
              "    do {\n",
              "      const length = Math.min(fileData.byteLength - position, MAX_PAYLOAD_SIZE);\n",
              "      const chunk = new Uint8Array(fileData, position, length);\n",
              "      position += length;\n",
              "\n",
              "      const base64 = btoa(String.fromCharCode.apply(null, chunk));\n",
              "      yield {\n",
              "        response: {\n",
              "          action: 'append',\n",
              "          file: file.name,\n",
              "          data: base64,\n",
              "        },\n",
              "      };\n",
              "\n",
              "      let percentDone = fileData.byteLength === 0 ?\n",
              "          100 :\n",
              "          Math.round((position / fileData.byteLength) * 100);\n",
              "      percent.textContent = `${percentDone}% done`;\n",
              "\n",
              "    } while (position < fileData.byteLength);\n",
              "  }\n",
              "\n",
              "  // All done.\n",
              "  yield {\n",
              "    response: {\n",
              "      action: 'complete',\n",
              "    }\n",
              "  };\n",
              "}\n",
              "\n",
              "scope.google = scope.google || {};\n",
              "scope.google.colab = scope.google.colab || {};\n",
              "scope.google.colab._files = {\n",
              "  _uploadFiles,\n",
              "  _uploadFilesContinue,\n",
              "};\n",
              "})(self);\n",
              "</script> "
            ]
          },
          "metadata": {}
        },
        {
          "output_type": "stream",
          "name": "stdout",
          "text": [
            "Saving chatbot_testing.mp3 to chatbot_testing (2).mp3\n",
            "Uploaded audio file: chatbot_testing (2).mp3\n"
          ]
        }
      ]
    },
    {
      "cell_type": "code",
      "source": [
        "GROQ_API_KEY = os.environ.get(\"GROQ_API_KEY\")\n",
        "stt_model = \"whisper-large-v3\""
      ],
      "metadata": {
        "id": "RnHoxN_qdkbZ"
      },
      "execution_count": 10,
      "outputs": []
    },
    {
      "cell_type": "code",
      "source": [
        "def transcribe_with_groq(stt_model, audio_filepath, GROQ_API_KEY):\n",
        "    client = Groq(api_key=GROQ_API_KEY)\n",
        "\n",
        "    with open(audio_filepath, \"rb\") as audio_file:\n",
        "        transcription = client.audio.transcriptions.create(\n",
        "            model=stt_model,\n",
        "            file=audio_file,\n",
        "            language=\"en\"\n",
        "        )\n",
        "\n",
        "    return transcription.text"
      ],
      "metadata": {
        "id": "6e4jaKQsdw_u"
      },
      "execution_count": 11,
      "outputs": []
    },
    {
      "cell_type": "code",
      "source": [
        "transcribed_text = transcribe_with_groq(stt_model, audio_filepath, GROQ_API_KEY)\n",
        "print(\"📝 Transcribed Text:\", transcribed_text)"
      ],
      "metadata": {
        "colab": {
          "base_uri": "https://localhost:8080/"
        },
        "id": "HQgynYoUd9JE",
        "outputId": "409c5fb5-99c8-4a7e-e561-2db5633c683d"
      },
      "execution_count": 12,
      "outputs": [
        {
          "output_type": "stream",
          "name": "stdout",
          "text": [
            "📝 Transcribed Text:  Hello Doctor, what's wrong with my hand?\n"
          ]
        }
      ]
    },
    {
      "cell_type": "code",
      "source": [
        "!pip install -q gTTS\n",
        "!pip install -q elevenlabs"
      ],
      "metadata": {
        "colab": {
          "base_uri": "https://localhost:8080/"
        },
        "id": "nc1wE18WeBkf",
        "outputId": "35e88ade-c1ae-4369-cca0-d683d6fe52d5"
      },
      "execution_count": 18,
      "outputs": [
        {
          "output_type": "stream",
          "name": "stdout",
          "text": [
            "\u001b[2K   \u001b[90m━━━━━━━━━━━━━━━━━━━━━━━━━━━━━━━━━━━━━━━━\u001b[0m \u001b[32m98.2/98.2 kB\u001b[0m \u001b[31m3.7 MB/s\u001b[0m eta \u001b[36m0:00:00\u001b[0m\n",
            "\u001b[2K   \u001b[90m━━━━━━━━━━━━━━━━━━━━━━━━━━━━━━━━━━━━━━━━\u001b[0m \u001b[32m754.8/754.8 kB\u001b[0m \u001b[31m8.4 MB/s\u001b[0m eta \u001b[36m0:00:00\u001b[0m\n",
            "\u001b[?25h"
          ]
        }
      ]
    },
    {
      "cell_type": "code",
      "source": [
        "from gtts import gTTS\n",
        "from IPython.display import Audio\n",
        "\n",
        "def text_to_speech_with_gtts(input_text, output_filepath=\"gTTS_output.mp3\"):\n",
        "    tts = gTTS(text=input_text, lang='en', slow=False)\n",
        "    tts.save(output_filepath)\n",
        "    print(f\"🔊 gTTS audio saved to {output_filepath}\")\n",
        "    return Audio(output_filepath)"
      ],
      "metadata": {
        "id": "1ut2oFdwe9ET"
      },
      "execution_count": 13,
      "outputs": []
    },
    {
      "cell_type": "code",
      "source": [
        "input_text = \"Hi! I'm Saihaj, a future Data Scientist speaking.\"\n",
        "\n",
        "# Using gTTS\n",
        "audio_gtts = text_to_speech_with_gtts(input_text)\n",
        "display(audio_gtts)"
      ],
      "metadata": {
        "colab": {
          "base_uri": "https://localhost:8080/",
          "height": 93
        },
        "id": "TSvUEvUJfloI",
        "outputId": "0cf9fd6f-0b92-4667-c976-261e16ea03b4"
      },
      "execution_count": 14,
      "outputs": [
        {
          "output_type": "stream",
          "name": "stdout",
          "text": [
            "🔊 gTTS audio saved to gTTS_output.mp3\n"
          ]
        },
        {
          "output_type": "display_data",
          "data": {
            "text/plain": [
              "<IPython.lib.display.Audio object>"
            ],
            "text/html": [
              "\n",
              "                <audio  controls=\"controls\" >\n",
              "                    <source src=\"data:audio/mpeg;base64,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\" type=\"audio/mpeg\" />\n",
              "                    Your browser does not support the audio element.\n",
              "                </audio>\n",
              "              "
            ]
          },
          "metadata": {}
        }
      ]
    },
    {
      "cell_type": "code",
      "source": [],
      "metadata": {
        "id": "qCITH-2Qknnu"
      },
      "execution_count": null,
      "outputs": []
    },
    {
      "cell_type": "code",
      "source": [],
      "metadata": {
        "id": "on2XcSUiknrb"
      },
      "execution_count": null,
      "outputs": []
    },
    {
      "cell_type": "code",
      "source": [
        "import os\n",
        "from elevenlabs.client import ElevenLabs\n",
        "import elevenlabs\n",
        "\n",
        "# Make sure you have the API key\n",
        "ELEVENLABS_API_KEY = os.environ.get(\"ELEVEN_API_KEY\")\n",
        "\n",
        "def text_to_speech_with_elevenlabs(input_text, output_filepath=\"elevenlabs_output.mp3\"):\n",
        "    if ELEVENLABS_API_KEY is None:\n",
        "        raise ValueError(\"Please set ELEVEN_API_KEY in your environment.\")\n",
        "\n",
        "    client = ElevenLabs(api_key=ELEVENLABS_API_KEY)\n",
        "    audio = client.generate(\n",
        "        text=input_text,\n",
        "        voice=\"Aria\",\n",
        "        output_format=\"mp3_22050_32\",\n",
        "        model=\"eleven_turbo_v2\"\n",
        "    )\n",
        "    elevenlabs.save(audio, output_filepath)\n",
        "    print(f\"🔊 ElevenLabs audio saved to {output_filepath}\")\n",
        "    return Audio(output_filepath)"
      ],
      "metadata": {
        "id": "aHXRfqfsgcsP"
      },
      "execution_count": 15,
      "outputs": []
    },
    {
      "cell_type": "code",
      "source": [
        "# Using ElevenLabs\n",
        "# audio_eleven = text_to_speech_with_elevenlabs(input_text)\n",
        "# display(audio_eleven)"
      ],
      "metadata": {
        "id": "hMyLt1AAiyS_"
      },
      "execution_count": 16,
      "outputs": []
    },
    {
      "cell_type": "code",
      "source": [
        "!pip uninstall -y gradio click\n",
        "!pip install gradio==4.26.0 click==8.1.7"
      ],
      "metadata": {
        "id": "w2ikaal4jK-T"
      },
      "execution_count": null,
      "outputs": []
    },
    {
      "cell_type": "code",
      "source": [
        "import gradio as gr\n",
        "import os\n",
        "from IPython.display import Audio"
      ],
      "metadata": {
        "id": "q-hZXRgXljsG"
      },
      "execution_count": 17,
      "outputs": []
    },
    {
      "cell_type": "code",
      "source": [
        "system_prompt=\"\"\"You have to act as a professional doctor, i know you are not but this is for learning purpose.\n",
        "            What's in this image?. Do you find anything wrong with it medically?\n",
        "            If you make a differential, suggest some remedies for them. Donot add any numbers or special characters in\n",
        "            your response. Your response should be in one long paragraph. Also always answer as if you are answering to a real person.\n",
        "            Donot say 'In the image I see' but say 'With what I see, I think you have ....'\n",
        "            Dont respond as an AI model in markdown, your answer should mimic that of an actual doctor not an AI bot,\n",
        "            Keep your answer concise (max 2 sentences). No preamble, start your answer right away please\"\"\""
      ],
      "metadata": {
        "id": "yT95t1QpmkS2"
      },
      "execution_count": 18,
      "outputs": []
    },
    {
      "cell_type": "code",
      "source": [
        "# # 🧩 The main function connecting everything\n",
        "# def process_inputs(audio_filepath, image_filepath):\n",
        "#     # Step 1: Transcribe the audio\n",
        "#     transcribed_text = transcribe_with_groq(\n",
        "#         stt_model=\"whisper-large-v3\",\n",
        "#         audio_filepath=audio_filepath,\n",
        "#         GROQ_API_KEY=os.environ.get(\"GROQ_API_KEY\")\n",
        "#     )\n",
        "\n",
        "#     # Step 2: Generate doctor-style response using Groq Vision LLM\n",
        "#     if image_filepath:\n",
        "#         query = system_prompt + \" \" + transcribed_text\n",
        "#         encoded_img = encode_image(image_filepath)\n",
        "#         doctor_response = analyze_image_with_query(\n",
        "#             query=query,\n",
        "#             model=\"meta-llama/llama-4-scout-17b-16e-instruct\",\n",
        "#             encoded_image=encoded_img\n",
        "#         )\n",
        "#     else:\n",
        "#         doctor_response = \"No image provided for me to analyze.\"\n",
        "\n",
        "#     # Step 3: Convert doctor response to speech using gTTS\n",
        "#     audio_output_path = \"final_gtts.mp3\"\n",
        "#     tts_audio = text_to_speech_with_gtts(\n",
        "#         input_text=doctor_response,\n",
        "#         output_filepath=audio_output_path\n",
        "#     )\n",
        "\n",
        "#     return transcribed_text, doctor_response, tts_audio\n",
        "\n"
      ],
      "metadata": {
        "id": "cqv92EEem-wf"
      },
      "execution_count": 26,
      "outputs": []
    },
    {
      "cell_type": "code",
      "source": [
        "def process_inputs(audio_filepath, image_filepath):\n",
        "    try:\n",
        "        # Step 1: Transcribe speech\n",
        "        speech_to_text_output = transcribe_with_groq(\n",
        "            GROQ_API_KEY=os.environ.get(\"GROQ_API_KEY\"),\n",
        "            audio_filepath=audio_filepath,\n",
        "            stt_model=\"whisper-large-v3\"\n",
        "        )\n",
        "\n",
        "        # Step 2: Handle image + query to LLaMA Vision\n",
        "        if image_filepath:\n",
        "            doctor_response = analyze_image_with_query(\n",
        "                query=system_prompt + \" \" + speech_to_text_output,\n",
        "                encoded_image=encode_image(image_filepath),\n",
        "                model=\"meta-llama/llama-4-scout-17b-16e-instruct\"\n",
        "            )\n",
        "        else:\n",
        "            doctor_response = \"No image provided for me to analyze\"\n",
        "\n",
        "        # Step 3: Convert doctor's text to speech using gTTS\n",
        "        voice_output_path = \"final_response.mp3\"\n",
        "        text_to_speech_with_gtts(\n",
        "            input_text=doctor_response,\n",
        "            output_filepath=voice_output_path\n",
        "        )\n",
        "\n",
        "        return speech_to_text_output, doctor_response, voice_output_path\n",
        "\n",
        "    except Exception as e:\n",
        "        print(\"❌ Error in process_inputs:\", e)\n",
        "        return \"Error in transcription\", \"Error in image analysis or TTS\", None\n"
      ],
      "metadata": {
        "id": "KDW5XhDOvezI"
      },
      "execution_count": 19,
      "outputs": []
    },
    {
      "cell_type": "code",
      "source": [
        "# 🎛️ Launch Gradio interface\n",
        "iface = gr.Interface(\n",
        "    fn=process_inputs,\n",
        "    inputs=[\n",
        "        gr.Audio(sources=[\"microphone\", \"upload\"], type=\"filepath\", label=\"🎤 Speak or Upload Audio\"),\n",
        "        gr.Image(type=\"filepath\", label=\"🖼️ Upload image of condition\")\n",
        "    ],\n",
        "    outputs=[\n",
        "        gr.Textbox(label=\"📝 Transcribed Patient Voice\"),\n",
        "        gr.Textbox(label=\"👨‍⚕️ Doctor's Response\"),\n",
        "        gr.Audio(label=\"🔊 Doctor's Voice Reply\")\n",
        "    ],\n",
        "    title=\"🩺 AI Doctor Chatbot !!!!\",\n",
        "    description=\"Speak your symptoms and upload a medical image. The AI Doctor will analyze and respond with voice.\",\n",
        ")\n",
        "\n",
        "iface.launch(debug=False)\n"
      ],
      "metadata": {
        "colab": {
          "base_uri": "https://localhost:8080/",
          "height": 646
        },
        "id": "Kr75vkiWnbqO",
        "outputId": "42922ebf-059c-42fb-897e-eccfcd8dd5b6"
      },
      "execution_count": 25,
      "outputs": [
        {
          "output_type": "stream",
          "name": "stdout",
          "text": [
            "It looks like you are running Gradio on a hosted Jupyter notebook, which requires `share=True`. Automatically setting `share=True` (you can turn this off by setting `share=False` in `launch()` explicitly).\n",
            "\n",
            "Colab notebook detected. To show errors in colab notebook, set debug=True in launch()\n",
            "* Running on public URL: https://326dfbdc8ea4d2b01d.gradio.live\n",
            "\n",
            "This share link expires in 1 week. For free permanent hosting and GPU upgrades, run `gradio deploy` from the terminal in the working directory to deploy to Hugging Face Spaces (https://huggingface.co/spaces)\n"
          ]
        },
        {
          "output_type": "display_data",
          "data": {
            "text/plain": [
              "<IPython.core.display.HTML object>"
            ],
            "text/html": [
              "<div><iframe src=\"https://326dfbdc8ea4d2b01d.gradio.live\" width=\"100%\" height=\"500\" allow=\"autoplay; camera; microphone; clipboard-read; clipboard-write;\" frameborder=\"0\" allowfullscreen></iframe></div>"
            ]
          },
          "metadata": {}
        },
        {
          "output_type": "execute_result",
          "data": {
            "text/plain": []
          },
          "metadata": {},
          "execution_count": 25
        }
      ]
    },
    {
      "cell_type": "code",
      "source": [
        "from google.colab import files\n",
        "from groq import Groq\n",
        "import os\n",
        "\n",
        "# 1. Upload the audio file\n",
        "uploaded = files.upload()\n",
        "audio_path = list(uploaded.keys())[0]  # Get uploaded filename\n",
        "\n",
        "# 2. Initialize Groq client\n",
        "client = Groq(api_key=os.environ.get(\"GROQ_API_KEY\"))\n",
        "\n",
        "# 3. Transcribe using Whisper from Groq\n",
        "with open(audio_path, \"rb\") as f:\n",
        "    transcription = client.audio.transcriptions.create(\n",
        "        model=\"whisper-large-v3\",\n",
        "        file=f,\n",
        "        language=\"en\"\n",
        "    )\n",
        "\n",
        "print(\" Transcription result:\", transcription.text)\n"
      ],
      "metadata": {
        "colab": {
          "base_uri": "https://localhost:8080/",
          "height": 89
        },
        "id": "hKQj2VaAoYNF",
        "outputId": "a8584f8f-07c4-4b09-971a-c01882fc7ab3"
      },
      "execution_count": 33,
      "outputs": [
        {
          "output_type": "display_data",
          "data": {
            "text/plain": [
              "<IPython.core.display.HTML object>"
            ],
            "text/html": [
              "\n",
              "     <input type=\"file\" id=\"files-9468b2af-307b-459a-ba81-ea43188da444\" name=\"files[]\" multiple disabled\n",
              "        style=\"border:none\" />\n",
              "     <output id=\"result-9468b2af-307b-459a-ba81-ea43188da444\">\n",
              "      Upload widget is only available when the cell has been executed in the\n",
              "      current browser session. Please rerun this cell to enable.\n",
              "      </output>\n",
              "      <script>// Copyright 2017 Google LLC\n",
              "//\n",
              "// Licensed under the Apache License, Version 2.0 (the \"License\");\n",
              "// you may not use this file except in compliance with the License.\n",
              "// You may obtain a copy of the License at\n",
              "//\n",
              "//      http://www.apache.org/licenses/LICENSE-2.0\n",
              "//\n",
              "// Unless required by applicable law or agreed to in writing, software\n",
              "// distributed under the License is distributed on an \"AS IS\" BASIS,\n",
              "// WITHOUT WARRANTIES OR CONDITIONS OF ANY KIND, either express or implied.\n",
              "// See the License for the specific language governing permissions and\n",
              "// limitations under the License.\n",
              "\n",
              "/**\n",
              " * @fileoverview Helpers for google.colab Python module.\n",
              " */\n",
              "(function(scope) {\n",
              "function span(text, styleAttributes = {}) {\n",
              "  const element = document.createElement('span');\n",
              "  element.textContent = text;\n",
              "  for (const key of Object.keys(styleAttributes)) {\n",
              "    element.style[key] = styleAttributes[key];\n",
              "  }\n",
              "  return element;\n",
              "}\n",
              "\n",
              "// Max number of bytes which will be uploaded at a time.\n",
              "const MAX_PAYLOAD_SIZE = 100 * 1024;\n",
              "\n",
              "function _uploadFiles(inputId, outputId) {\n",
              "  const steps = uploadFilesStep(inputId, outputId);\n",
              "  const outputElement = document.getElementById(outputId);\n",
              "  // Cache steps on the outputElement to make it available for the next call\n",
              "  // to uploadFilesContinue from Python.\n",
              "  outputElement.steps = steps;\n",
              "\n",
              "  return _uploadFilesContinue(outputId);\n",
              "}\n",
              "\n",
              "// This is roughly an async generator (not supported in the browser yet),\n",
              "// where there are multiple asynchronous steps and the Python side is going\n",
              "// to poll for completion of each step.\n",
              "// This uses a Promise to block the python side on completion of each step,\n",
              "// then passes the result of the previous step as the input to the next step.\n",
              "function _uploadFilesContinue(outputId) {\n",
              "  const outputElement = document.getElementById(outputId);\n",
              "  const steps = outputElement.steps;\n",
              "\n",
              "  const next = steps.next(outputElement.lastPromiseValue);\n",
              "  return Promise.resolve(next.value.promise).then((value) => {\n",
              "    // Cache the last promise value to make it available to the next\n",
              "    // step of the generator.\n",
              "    outputElement.lastPromiseValue = value;\n",
              "    return next.value.response;\n",
              "  });\n",
              "}\n",
              "\n",
              "/**\n",
              " * Generator function which is called between each async step of the upload\n",
              " * process.\n",
              " * @param {string} inputId Element ID of the input file picker element.\n",
              " * @param {string} outputId Element ID of the output display.\n",
              " * @return {!Iterable<!Object>} Iterable of next steps.\n",
              " */\n",
              "function* uploadFilesStep(inputId, outputId) {\n",
              "  const inputElement = document.getElementById(inputId);\n",
              "  inputElement.disabled = false;\n",
              "\n",
              "  const outputElement = document.getElementById(outputId);\n",
              "  outputElement.innerHTML = '';\n",
              "\n",
              "  const pickedPromise = new Promise((resolve) => {\n",
              "    inputElement.addEventListener('change', (e) => {\n",
              "      resolve(e.target.files);\n",
              "    });\n",
              "  });\n",
              "\n",
              "  const cancel = document.createElement('button');\n",
              "  inputElement.parentElement.appendChild(cancel);\n",
              "  cancel.textContent = 'Cancel upload';\n",
              "  const cancelPromise = new Promise((resolve) => {\n",
              "    cancel.onclick = () => {\n",
              "      resolve(null);\n",
              "    };\n",
              "  });\n",
              "\n",
              "  // Wait for the user to pick the files.\n",
              "  const files = yield {\n",
              "    promise: Promise.race([pickedPromise, cancelPromise]),\n",
              "    response: {\n",
              "      action: 'starting',\n",
              "    }\n",
              "  };\n",
              "\n",
              "  cancel.remove();\n",
              "\n",
              "  // Disable the input element since further picks are not allowed.\n",
              "  inputElement.disabled = true;\n",
              "\n",
              "  if (!files) {\n",
              "    return {\n",
              "      response: {\n",
              "        action: 'complete',\n",
              "      }\n",
              "    };\n",
              "  }\n",
              "\n",
              "  for (const file of files) {\n",
              "    const li = document.createElement('li');\n",
              "    li.append(span(file.name, {fontWeight: 'bold'}));\n",
              "    li.append(span(\n",
              "        `(${file.type || 'n/a'}) - ${file.size} bytes, ` +\n",
              "        `last modified: ${\n",
              "            file.lastModifiedDate ? file.lastModifiedDate.toLocaleDateString() :\n",
              "                                    'n/a'} - `));\n",
              "    const percent = span('0% done');\n",
              "    li.appendChild(percent);\n",
              "\n",
              "    outputElement.appendChild(li);\n",
              "\n",
              "    const fileDataPromise = new Promise((resolve) => {\n",
              "      const reader = new FileReader();\n",
              "      reader.onload = (e) => {\n",
              "        resolve(e.target.result);\n",
              "      };\n",
              "      reader.readAsArrayBuffer(file);\n",
              "    });\n",
              "    // Wait for the data to be ready.\n",
              "    let fileData = yield {\n",
              "      promise: fileDataPromise,\n",
              "      response: {\n",
              "        action: 'continue',\n",
              "      }\n",
              "    };\n",
              "\n",
              "    // Use a chunked sending to avoid message size limits. See b/62115660.\n",
              "    let position = 0;\n",
              "    do {\n",
              "      const length = Math.min(fileData.byteLength - position, MAX_PAYLOAD_SIZE);\n",
              "      const chunk = new Uint8Array(fileData, position, length);\n",
              "      position += length;\n",
              "\n",
              "      const base64 = btoa(String.fromCharCode.apply(null, chunk));\n",
              "      yield {\n",
              "        response: {\n",
              "          action: 'append',\n",
              "          file: file.name,\n",
              "          data: base64,\n",
              "        },\n",
              "      };\n",
              "\n",
              "      let percentDone = fileData.byteLength === 0 ?\n",
              "          100 :\n",
              "          Math.round((position / fileData.byteLength) * 100);\n",
              "      percent.textContent = `${percentDone}% done`;\n",
              "\n",
              "    } while (position < fileData.byteLength);\n",
              "  }\n",
              "\n",
              "  // All done.\n",
              "  yield {\n",
              "    response: {\n",
              "      action: 'complete',\n",
              "    }\n",
              "  };\n",
              "}\n",
              "\n",
              "scope.google = scope.google || {};\n",
              "scope.google.colab = scope.google.colab || {};\n",
              "scope.google.colab._files = {\n",
              "  _uploadFiles,\n",
              "  _uploadFilesContinue,\n",
              "};\n",
              "})(self);\n",
              "</script> "
            ]
          },
          "metadata": {}
        },
        {
          "output_type": "stream",
          "name": "stdout",
          "text": [
            "Saving chatbot_testing.mp3 to chatbot_testing (1).mp3\n",
            " Transcription result:  Hello Doctor, what's wrong with my hand?\n"
          ]
        }
      ]
    },
    {
      "cell_type": "code",
      "source": [
        "!pip install -U gradio"
      ],
      "metadata": {
        "id": "Im1vLGq-z87U"
      },
      "execution_count": null,
      "outputs": []
    },
    {
      "cell_type": "code",
      "source": [],
      "metadata": {
        "id": "diRkvvVo1O7I"
      },
      "execution_count": null,
      "outputs": []
    }
  ]
}